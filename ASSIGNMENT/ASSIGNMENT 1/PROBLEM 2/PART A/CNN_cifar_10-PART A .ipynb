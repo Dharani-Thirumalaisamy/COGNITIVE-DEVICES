{
  "nbformat": 4,
  "nbformat_minor": 0,
  "metadata": {
    "colab": {
      "name": "CNN-cifar_10.ipynb",
      "version": "0.3.2",
      "provenance": [],
      "collapsed_sections": []
    },
    "kernelspec": {
      "name": "python3",
      "display_name": "Python 3"
    }
  },
  "cells": [
    {
      "metadata": {
        "id": "nP5o12qV0cnB",
        "colab_type": "code",
        "colab": {
          "base_uri": "https://localhost:8080/",
          "height": 34
        },
        "outputId": "04f76ff6-afd3-4c3e-a102-8acc12ba6e53"
      },
      "cell_type": "code",
      "source": [
        "# importing all the necessary libraries \n",
        "\n",
        "import keras \n",
        "import numpy as np \n",
        "from keras.datasets import cifar10\n",
        "from keras.utils import np_utils\n",
        "from keras.models import Sequential\n",
        "from keras.layers import Dense, Flatten, Dropout\n",
        "from sklearn.model_selection import train_test_split\n",
        "from keras.models import Model\n",
        "from keras.layers import Input\n",
        "from keras.layers import Dense\n",
        "from keras.layers.convolutional import Conv2D\n",
        "from keras.layers.pooling import MaxPooling2D\n",
        "\n",
        "# loading the dataset\n",
        "(train_x,train_y),(test_x,test_y) = cifar10.load_data()\n",
        "\n",
        "#formatting the dataset \n",
        "train_x = train_x.astype('float32')\n",
        "test_x = test_x.astype('float32')\n",
        "\n",
        "train_x = train_x/255.\n",
        "test_x = test_x/255.\n",
        "\n",
        "train_y = np_utils.to_categorical(train_y,10)\n",
        "test_y = np_utils.to_categorical(test_y,10)\n",
        "\n"
      ],
      "execution_count": 0,
      "outputs": [
        {
          "output_type": "stream",
          "text": [
            "Using TensorFlow backend.\n"
          ],
          "name": "stderr"
        }
      ]
    },
    {
      "metadata": {
        "id": "UffulRlm2Z3d",
        "colab_type": "code",
        "colab": {
          "base_uri": "https://localhost:8080/",
          "height": 952
        },
        "outputId": "7fa11e86-1729-453a-bf02-2f7cde069ad5"
      },
      "cell_type": "code",
      "source": [
        "# cnn architecture\n",
        "input_tensor = Input(shape=(32,32,3))\n",
        "\n",
        "conv1 = Conv2D(32, kernel_size=3, activation='relu')(input_tensor)\n",
        "conv2 = Conv2D(32, kernel_size=3, activation='relu')(conv1)\n",
        "pool1 = MaxPooling2D(pool_size=(2, 2))(conv2)\n",
        "drop1 = Dropout(0.25)(pool1)\n",
        "\n",
        "conv3 = Conv2D(64, kernel_size=3, activation='relu')(drop1)\n",
        "conv4 = Conv2D(64, kernel_size=3, activation='relu')(conv3)\n",
        "pool2 = MaxPooling2D(pool_size=(2, 2))(conv4)\n",
        "drop2 = Dropout(0.25)(pool2)\n",
        "\n",
        "one_dim = Flatten()(drop2)\n",
        "hidden1 = Dense(512, activation='relu')(one_dim)\n",
        "drop3 = Dropout(0.5)(hidden1)\n",
        "output = Dense(10, activation='softmax')(drop3)\n",
        "model = Model(inputs=input_tensor, outputs=output)\n",
        "\n",
        "model.compile(loss='categorical_crossentropy',\n",
        "              optimizer='adam',\n",
        "              metrics=['accuracy'])\n",
        "\n",
        "model.summary()\n",
        "\n",
        "model.fit(train_x,train_y,batch_size = 32,epochs=10,validation_data=(test_x,test_y))\n",
        "\n",
        "score = model.evaluate(test_x,test_y)\n",
        "\n",
        "print('Test loss:', score[0])\n",
        "print('Test accuracy:', score[1])\n",
        "\n",
        "plt.plot(history.history['acc'])\n",
        "plt.plot(history.history['val_acc'])\n",
        "plt.title('model accuracy')\n",
        "plt.ylabel('accuracy')\n",
        "plt.xlabel('epoch')\n",
        "plt.legend(['train', 'test'], loc='upper left')\n",
        "plt.show()\n",
        "# summarize history for loss\n",
        "plt.plot(history.history['loss'])\n",
        "plt.plot(history.history['val_loss'])\n",
        "plt.title('model loss')\n",
        "plt.ylabel('loss')\n",
        "plt.xlabel('epoch')\n",
        "plt.legend(['train', 'test'], loc='upper left')\n",
        "plt.show()"
      ],
      "execution_count": 0,
      "outputs": [
        {
          "output_type": "stream",
          "text": [
            "_________________________________________________________________\n",
            "Layer (type)                 Output Shape              Param #   \n",
            "=================================================================\n",
            "input_1 (InputLayer)         (None, 32, 32, 3)         0         \n",
            "_________________________________________________________________\n",
            "conv2d_1 (Conv2D)            (None, 30, 30, 32)        896       \n",
            "_________________________________________________________________\n",
            "conv2d_2 (Conv2D)            (None, 28, 28, 32)        9248      \n",
            "_________________________________________________________________\n",
            "max_pooling2d_1 (MaxPooling2 (None, 14, 14, 32)        0         \n",
            "_________________________________________________________________\n",
            "dropout_1 (Dropout)          (None, 14, 14, 32)        0         \n",
            "_________________________________________________________________\n",
            "conv2d_3 (Conv2D)            (None, 12, 12, 64)        18496     \n",
            "_________________________________________________________________\n",
            "conv2d_4 (Conv2D)            (None, 10, 10, 64)        36928     \n",
            "_________________________________________________________________\n",
            "max_pooling2d_2 (MaxPooling2 (None, 5, 5, 64)          0         \n",
            "_________________________________________________________________\n",
            "dropout_2 (Dropout)          (None, 5, 5, 64)          0         \n",
            "_________________________________________________________________\n",
            "flatten_1 (Flatten)          (None, 1600)              0         \n",
            "_________________________________________________________________\n",
            "dense_1 (Dense)              (None, 512)               819712    \n",
            "_________________________________________________________________\n",
            "dropout_3 (Dropout)          (None, 512)               0         \n",
            "_________________________________________________________________\n",
            "dense_2 (Dense)              (None, 10)                5130      \n",
            "=================================================================\n",
            "Total params: 890,410\n",
            "Trainable params: 890,410\n",
            "Non-trainable params: 0\n",
            "_________________________________________________________________\n",
            "Train on 50000 samples, validate on 10000 samples\n",
            "Epoch 1/10\n",
            "50000/50000 [==============================] - 234s 5ms/step - loss: 1.5870 - acc: 0.4162 - val_loss: 1.2256 - val_acc: 0.5650\n",
            "Epoch 2/10\n",
            "50000/50000 [==============================] - 233s 5ms/step - loss: 1.2228 - acc: 0.5629 - val_loss: 1.0588 - val_acc: 0.6234\n",
            "Epoch 3/10\n",
            "50000/50000 [==============================] - 233s 5ms/step - loss: 1.0596 - acc: 0.6274 - val_loss: 0.9239 - val_acc: 0.6706\n",
            "Epoch 4/10\n",
            "50000/50000 [==============================] - 235s 5ms/step - loss: 0.9534 - acc: 0.6650 - val_loss: 0.8634 - val_acc: 0.6960\n",
            "Epoch 5/10\n",
            "50000/50000 [==============================] - 230s 5ms/step - loss: 0.8927 - acc: 0.6837 - val_loss: 0.8084 - val_acc: 0.7151\n",
            "Epoch 6/10\n",
            "50000/50000 [==============================] - 230s 5ms/step - loss: 0.8413 - acc: 0.7037 - val_loss: 0.7901 - val_acc: 0.7254\n",
            "Epoch 7/10\n",
            "50000/50000 [==============================] - 233s 5ms/step - loss: 0.8055 - acc: 0.7178 - val_loss: 0.7608 - val_acc: 0.7368\n",
            "Epoch 8/10\n",
            "50000/50000 [==============================] - 234s 5ms/step - loss: 0.7671 - acc: 0.7317 - val_loss: 0.7528 - val_acc: 0.7355\n",
            "Epoch 9/10\n",
            "50000/50000 [==============================] - 234s 5ms/step - loss: 0.7409 - acc: 0.7410 - val_loss: 0.7109 - val_acc: 0.7567\n",
            "Epoch 10/10\n",
            "50000/50000 [==============================] - 234s 5ms/step - loss: 0.7123 - acc: 0.7504 - val_loss: 0.7108 - val_acc: 0.7597\n",
            "10000/10000 [==============================] - 13s 1ms/step\n"
          ],
          "name": "stdout"
        }
      ]
    },
    {
      "metadata": {
        "id": "ONRVS0oT3ACP",
        "colab_type": "code",
        "colab": {
          "base_uri": "https://localhost:8080/",
          "height": 51
        },
        "outputId": "7c110240-7cca-4a78-db19-3762c662d83a"
      },
      "cell_type": "code",
      "source": [
        ""
      ],
      "execution_count": 0,
      "outputs": [
        {
          "output_type": "stream",
          "text": [
            "Test loss: 0.710777543926239\n",
            "Test accuracy: 0.7597\n"
          ],
          "name": "stdout"
        }
      ]
    },
    {
      "metadata": {
        "id": "TntcRtl83DbN",
        "colab_type": "code",
        "colab": {}
      },
      "cell_type": "code",
      "source": [
        ""
      ],
      "execution_count": 0,
      "outputs": []
    },
    {
      "metadata": {
        "id": "NJZIP81uCCMs",
        "colab_type": "code",
        "colab": {}
      },
      "cell_type": "code",
      "source": [
        ""
      ],
      "execution_count": 0,
      "outputs": []
    }
  ]
}